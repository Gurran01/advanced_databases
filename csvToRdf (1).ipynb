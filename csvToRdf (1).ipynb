{
 "cells": [
  {
   "cell_type": "code",
   "execution_count": 1,
   "id": "141a0226",
   "metadata": {},
   "outputs": [],
   "source": [
    "import csv\n",
    "import pandas as pd"
   ]
  },
  {
   "cell_type": "code",
   "execution_count": 3,
   "id": "df4f61f1",
   "metadata": {},
   "outputs": [],
   "source": [
    "assigned_hours_df = pd.read_csv(\"csv_files/Assigned_Hours.csv\", skipinitialspace=True)\n",
    "course_instances_df = pd.read_csv(\"csv_files/Course_Instances.csv\", skipinitialspace=True)\n",
    "course_plannings_df = pd.read_csv(\"csv_files/Course_plannings.csv\", skipinitialspace=True)\n",
    "courses_df = pd.read_csv(\"csv_files/Courses.csv\", skipinitialspace=True)\n",
    "programme_courses_df = pd.read_csv(\"csv_files/Programme_Courses.csv\", skipinitialspace=True)\n",
    "programmes_df = pd.read_csv(\"csv_files/Programmes.csv\", skipinitialspace=True)\n",
    "registrations_df = pd.read_csv(\"csv_files/Registrations.csv\", skipinitialspace=True)\n",
    "reported_hours_df = pd.read_csv(\"csv_files/Reported_Hours.csv\", skipinitialspace=True)\n",
    "senior_teachers_df = pd.read_csv(\"csv_files/Senior_Teachers.csv\", skipinitialspace=True)\n",
    "students_df = pd.read_csv(\"csv_files/Students.csv\", skipinitialspace=True)\n",
    "teaching_assistants_df = pd.read_csv(\"csv_files/Teaching_Assistants.csv\", skipinitialspace=True)"
   ]
  },
  {
   "cell_type": "code",
   "execution_count": 28,
   "id": "8b93ca96",
   "metadata": {},
   "outputs": [],
   "source": [
    "# Output RDF Turtle format\n",
    "with open(\"ttl_files/courses.ttl\", \"w\") as f:\n",
    "    # Write prefixes\n",
    "    f.write(\"@prefix : <http://example.org/university#> .\\n\")\n",
    "    f.write(\"@prefix rdf: <http://www.w3.org/1999/02/22-rdf-syntax-ns#> .\\n\")\n",
    "    f.write(\"@prefix xsd: <http://www.w3.org/2001/XMLSchema#> .\\n\\n\")\n",
    "\n",
    "    # Loop over each row\n",
    "    for index, row in courses_df.iterrows():\n",
    "        course_uri = f\":course{row['Course code']}\"\n",
    "        f.write(f\"{course_uri} rdf:type :Course ;\\n\")\n",
    "        f.write(f\"    :code \\\"{row['Course code']}\\\"^^xsd:string ;\\n\")\n",
    "        f.write(f\"    :name \\\"{row['Course name']}\\\"^^xsd:string ;\\n\")\n",
    "        f.write(f\"    :credits \\\"{row['Credits']}\\\"^^xsd:decimal ;\\n\")\n",
    "        f.write(f\"    :level \\\"{row['Level']}\\\"^^xsd:integer ;\\n\")  \n",
    "        f.write(f\"    :division \\\"{row['Division']}\\\"^^xsd:string .\\n\\n\")\n"
   ]
  },
  {
   "cell_type": "code",
   "execution_count": 29,
   "id": "d5a00b51",
   "metadata": {},
   "outputs": [],
   "source": [
    "# Output RDF Turtle format\n",
    "with open(\"ttl_files/programmeCourses.ttl\", \"w\") as f:\n",
    "    # Write prefixes\n",
    "    f.write(\"@prefix : <http://example.org/university#> .\\n\")\n",
    "    f.write(\"@prefix rdf: <http://www.w3.org/1999/02/22-rdf-syntax-ns#> .\\n\")\n",
    "    f.write(\"@prefix xsd: <http://www.w3.org/2001/XMLSchema#> .\\n\\n\")\n",
    "\n",
    "    # Loop over each row\n",
    "    for index, row in programme_courses_df.iterrows():\n",
    "        academic_year = row['Academic Year']\n",
    "        study_year = str(row['Study Year'])\n",
    "        course_code = row['Course']\n",
    "        programme_code = row['Programme code']\n",
    "\n",
    "        pc_uri = f\":programmeCourse_{academic_year}_{study_year}_{course_code}_{programme_code}\"\n",
    "        \n",
    "        f.write(f\"{pc_uri} rdf:type :ProgrammeCourses ;\\n\")\n",
    "        f.write(f\"    :academicYear \\\"{row['Academic Year']}\\\"^^xsd:string ;\\n\")\n",
    "        f.write(f\"    :studyYear \\\"{row['Study Year']}\\\"^^xsd:integer ;\\n\")\n",
    "        f.write(f\"    :courseType \\\"{row['Course Type']}\\\"^^xsd:string ;\\n\")\n",
    "        f.write(f\"    :course :course{course_code} ;\\n\")\n",
    "        f.write(f\"    :programme :programme{programme_code} .\\n\\n\")\n"
   ]
  },
  {
   "cell_type": "code",
   "execution_count": 30,
   "id": "afc0491a",
   "metadata": {},
   "outputs": [],
   "source": [
    "# Output RDF Turtle format\n",
    "with open(\"ttl_files/programmes.ttl\", \"w\") as f:\n",
    "    # Write prefixes\n",
    "    f.write(\"@prefix : <http://example.org/university#> .\\n\")\n",
    "    f.write(\"@prefix rdf: <http://www.w3.org/1999/02/22-rdf-syntax-ns#> .\\n\")\n",
    "    f.write(\"@prefix xsd: <http://www.w3.org/2001/XMLSchema#> .\\n\\n\")\n",
    "\n",
    "    # Loop over each row\n",
    "    for index, row in programmes_df.iterrows():\n",
    "        programme_uri = f\":programme{row['Programme code']}\"\n",
    "        f.write(f\"{programme_uri} rdf:type :Programme ;\\n\")\n",
    "        f.write(f\"    :programmeCode \\\"{row['Programme code']}\\\"^^xsd:string ;\\n\")\n",
    "        f.write(f\"    :programmeName \\\"{row['Programme name']}\\\"^^xsd:integer ;\\n\")\n",
    "        f.write(f\"    :director :seniorTeacher{row['Director']} .\\n\\n\")\n",
    "        # f.write(f\"    :department :department{row['Department name']} .\\n\\n\") \n"
   ]
  },
  {
   "cell_type": "code",
   "execution_count": 31,
   "id": "c50abf13",
   "metadata": {},
   "outputs": [],
   "source": [
    "# Output RDF Turtle format\n",
    "with open(\"ttl_files/teachers.ttl\", \"w\") as f:\n",
    "    # Write prefixes\n",
    "    f.write(\"@prefix : <http://example.org/university#> .\\n\")\n",
    "    f.write(\"@prefix rdf: <http://www.w3.org/1999/02/22-rdf-syntax-ns#> .\\n\")\n",
    "    f.write(\"@prefix xsd: <http://www.w3.org/2001/XMLSchema#> .\\n\\n\")\n",
    "\n",
    "    # Loop over each row\n",
    "    for index, row in senior_teachers_df.iterrows():\n",
    "        teacher_uri = f\":teacher{row['Teacher id']}\"\n",
    "        f.write(f\"{teacher_uri} rdf:type :Teacher ;\\n\")\n",
    "        f.write(f\"    :teacherId \\\"{row['Teacher id']}\\\"^^xsd:string ;\\n\")\n",
    "        f.write(f\"    :name \\\"{row['Teacher name']}\\\"^^xsd:string ;\\n\")\n",
    "        f.write(f\"    :division \\\"{row['Division name']}\\\"^^xsd:string .\\n\\n\")\n",
    "        # f.write(f\"    :department :department{row['Department name']} .\\n\\n\") \n"
   ]
  },
  {
   "cell_type": "code",
   "execution_count": 32,
   "id": "f0f5ab43",
   "metadata": {},
   "outputs": [],
   "source": [
    "# Output RDF Turtle format\n",
    "with open(\"ttl_files/seniorTeachers.ttl\", \"w\") as f:\n",
    "    # Write prefixes\n",
    "    f.write(\"@prefix : <http://example.org/university#> .\\n\")\n",
    "    f.write(\"@prefix rdf: <http://www.w3.org/1999/02/22-rdf-syntax-ns#> .\\n\")\n",
    "    f.write(\"@prefix xsd: <http://www.w3.org/2001/XMLSchema#> .\\n\\n\")\n",
    "\n",
    "    # Loop over each row\n",
    "    for index, row in senior_teachers_df.iterrows():\n",
    "        teacher_uri = f\":seniorTeachers{row['Teacher id']}\"\n",
    "        f.write(f\"{teacher_uri} rdf:type :SeniorTeachers ;\\n\")\n",
    "        f.write(f\"    :teacherId \\\"{row['Teacher id']}\\\"^^xsd:string ;\\n\")\n",
    "        f.write(f\"    :name \\\"{row['Teacher name']}\\\"^^xsd:string ;\\n\")\n",
    "        f.write(f\"    :division \\\"{row['Division name']}\\\"^^xsd:string .\\n\\n\")\n",
    "        # f.write(f\"    :department :department{row['Department name']} .\\n\\n\") "
   ]
  },
  {
   "cell_type": "code",
   "execution_count": 33,
   "id": "8aad668b",
   "metadata": {},
   "outputs": [],
   "source": [
    "# Output RDF Turtle format\n",
    "with open(\"ttl_files/assistants.ttl\", \"w\") as f:\n",
    "    # Write prefixes\n",
    "    f.write(\"@prefix : <http://example.org/university#> .\\n\")\n",
    "    f.write(\"@prefix rdf: <http://www.w3.org/1999/02/22-rdf-syntax-ns#> .\\n\")\n",
    "    f.write(\"@prefix xsd: <http://www.w3.org/2001/XMLSchema#> .\\n\\n\")\n",
    "\n",
    "    # Loop over each row\n",
    "    for index, row in senior_teachers_df.iterrows():\n",
    "        teacher_uri = f\":assistants{row['Teacher id']}\"\n",
    "        f.write(f\"{teacher_uri} rdf:type :Assistants ;\\n\")\n",
    "        f.write(f\"    :teacherId \\\"{row['Teacher id']}\\\"^^xsd:string ;\\n\")\n",
    "        f.write(f\"    :name \\\"{row['Teacher name']}\\\"^^xsd:string ;\\n\")\n",
    "        f.write(f\"    :division \\\"{row['Division name']}\\\"^^xsd:string .\\n\\n\")\n",
    "        # f.write(f\"    :department :department{row['Department name']} .\\n\\n\") "
   ]
  },
  {
   "cell_type": "code",
   "execution_count": null,
   "id": "d2684eae",
   "metadata": {},
   "outputs": [],
   "source": [
    "# Output RDF Turtle format\n",
    "with open(\"ttl_files/students.ttl\", \"w\") as f:\n",
    "    # Write prefixes\n",
    "    f.write(\"@prefix : <http://example.org/university#> .\\n\")\n",
    "    f.write(\"@prefix rdf: <http://www.w3.org/1999/02/22-rdf-syntax-ns#> .\\n\")\n",
    "    f.write(\"@prefix xsd: <http://www.w3.org/2001/XMLSchema#> .\\n\\n\")\n",
    "\n",
    "    # Loop over each row\n",
    "    for index, row in students_df.iterrows():\n",
    "        student_uri = f\":student{row['Student id']}\"\n",
    "        f.write(f\"{student_uri} rdf:type :Student ;\\n\")\n",
    "        f.write(f\"    :studentId \\\"{row['Student id']}\\\"^^xsd:string ;\\n\")\n",
    "        f.write(f\"    :studentName \\\"{row['Student name']}\\\"^^xsd:string ;\\n\")\n",
    "        f.write(f\"    :graduatedAt \\\"{row['Graduated']}\\\"^^xsd:string .\\n\\n\") # needs improvement should be an integer\n",
    "        # f.write(f\"    :department :department{row['Department name']} .\\n\\n\") \n"
   ]
  },
  {
   "cell_type": "code",
   "execution_count": 36,
   "id": "bedf09ae",
   "metadata": {},
   "outputs": [],
   "source": [
    "# assigned_hours_df, course_instances_df, course_plannings_df, registrations_df, reported_hours_df, teaching_assistants_df\n",
    "\n",
    "\n",
    "# # Output RDF Turtle format\n",
    "# with open(\"ttl_files/students.ttl\", \"w\") as f:\n",
    "#     # Write prefixes\n",
    "#     f.write(\"@prefix : <http://example.org/university#> .\\n\")\n",
    "#     f.write(\"@prefix rdf: <http://www.w3.org/1999/02/22-rdf-syntax-ns#> .\\n\")\n",
    "#     f.write(\"@prefix xsd: <http://www.w3.org/2001/XMLSchema#> .\\n\\n\")\n",
    "\n",
    "#     # Loop over each row\n",
    "#     for index, row in students_df.iterrows():\n",
    "#         programme_uri = f\":student{row['Programme code']}\"\n",
    "#         f.write(f\"{programme_uri} rdf:type :Programme ;\\n\")\n",
    "#         f.write(f\"    :programmeCode \\\"{row['Programme code']}\\\"^^xsd:string ;\\n\")\n",
    "#         f.write(f\"    :programmeName \\\"{row['Programme name']}\\\"^^xsd:integer ;\\n\")\n",
    "#         f.write(f\"    :director :seniorTeacher{row['Director']} .\\n\\n\")\n",
    "#         # f.write(f\"    :department :department{row['Department name']} .\\n\\n\") \n"
   ]
  }
 ],
 "metadata": {
  "kernelspec": {
   "display_name": "PyDSML",
   "language": "python",
   "name": "python3"
  },
  "language_info": {
   "codemirror_mode": {
    "name": "ipython",
    "version": 3
   },
   "file_extension": ".py",
   "mimetype": "text/x-python",
   "name": "python",
   "nbconvert_exporter": "python",
   "pygments_lexer": "ipython3",
   "version": "3.8.20"
  }
 },
 "nbformat": 4,
 "nbformat_minor": 5
}
